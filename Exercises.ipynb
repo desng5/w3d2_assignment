{
 "cells": [
  {
   "cell_type": "markdown",
   "metadata": {},
   "source": [
    "#### Exercise 1 - Class Inheritance"
   ]
  },
  {
   "cell_type": "markdown",
   "metadata": {},
   "source": [
    "Create an Employee class that sets an employee's first name, last name, job title, salary, and email. The Employee class should have a class attribute for the raise amount set to 5% (1.05). Create a method that will apply the raise to an employee's salary."
   ]
  },
  {
   "cell_type": "code",
   "execution_count": 1,
   "metadata": {},
   "outputs": [],
   "source": [
    "class Employee:\n",
    "    raise_amount = 1.05 #5% raise as a float\n",
    "    def __init__ (self, first, last, job_title, salary):\n",
    "        self.first_name = first\n",
    "        self.last_name = last\n",
    "        self.job_title = job_title\n",
    "        self.salary = salary\n",
    "        self.email = self.create_email\n",
    "        \n",
    "    def create_email(self): #method to create email and automatically creates it when new instance is created in class. \n",
    "        return f\"{self.first_name.lower()}.{self.last_name.lower()}@company.org\"\n",
    "    \n",
    "    def updated_salary(self):\n",
    "        self.salary *= self.raise_amount\n",
    "        "
   ]
  },
  {
   "cell_type": "markdown",
   "metadata": {},
   "source": [
    "Create two more classes that inherit from the Employee class. One for Sales and one for Development. Both of these classes will have the same attributes as the Employee.<br>\n",
    "- For the Sales employees, add a phone number attribute on instantiation using the super method. \n",
    "- Create a method on the Sales class that will Send a Follow Up Email. It should take in a customer name and \"send\" aka print a formatted email \"Dear *customer*, Thank you for your interest in our product. Please let me know if you have any questions. My email is *email* or my phone number is *phone number*. Thanks, *full name*\"\n",
    "- Create a method on the Development class called code that will print out \"*full name* is writing code\"."
   ]
  },
  {
   "cell_type": "code",
   "execution_count": 2,
   "metadata": {},
   "outputs": [],
   "source": [
    "class Sales(Employee): \n",
    "    def __init__ (self, first, last, job_title, salary, phone_num):\n",
    "        super().__init__(first, last, job_title, salary)\n",
    "        self.phone_num = phone_num\n",
    "    def follow_up_email(self, customer_name):\n",
    "        send_follow_up = f\" Dear {customer_name}\\n Thank you for your interest in our product. Please let me know if you have any questions. My email {self.email} or my phone number is{self.phone_num}. \\nThanks,\\n{self.first_name} {self.last_name}\"\n",
    "        print()\n",
    "class Development(Employee):\n",
    "    def code(self):\n",
    "        print(f\"{self.first_name} {self.last_name} is writing code.\")\n",
    "    "
   ]
  },
  {
   "cell_type": "markdown",
   "metadata": {},
   "source": [
    "- Create an instance of a Sales Employee with a salary of $50,000.\n",
    "- Send follow up emails to \"Mike O'Neil\" and \"Hannah Stern\"\n",
    "- Give the employee a raise and print the salary"
   ]
  },
  {
   "cell_type": "code",
   "execution_count": 3,
   "metadata": {},
   "outputs": [
    {
     "name": "stdout",
     "output_type": "stream",
     "text": [
      "\n",
      "\n",
      "Salary: $52500.0\n"
     ]
    }
   ],
   "source": [
    "sales_emp = Sales('Logan', 'Powers', 'Retail Associate', 50000, \"555-999-8282\")\n",
    "\n",
    "sales_emp.follow_up_email(\"Mike O'Neil\")\n",
    "sales_emp.follow_up_email(\"Hannah Stern\")\n",
    "\n",
    "sales_emp.updated_salary()\n",
    "print(f\"Salary: ${sales_emp.salary}\")\n"
   ]
  },
  {
   "cell_type": "markdown",
   "metadata": {},
   "source": [
    "- Create an instance of a Development Employee with a salary of $100,000\n",
    "- Write some code with this employee\n",
    "- Give the employee a raise and print the salary"
   ]
  },
  {
   "cell_type": "code",
   "execution_count": 5,
   "metadata": {},
   "outputs": [
    {
     "name": "stdout",
     "output_type": "stream",
     "text": [
      "Astro Nguyen is writing code.\n",
      "Salary: $105000.0\n"
     ]
    }
   ],
   "source": [
    "dev_emp = Development(\"Astro\", \"Nguyen\", \"Web Developer\", 100000)\n",
    "dev_emp.code()\n",
    "\n",
    "dev_emp.updated_salary()\n",
    "\n",
    "print(f\"Salary: ${dev_emp.salary}\")"
   ]
  },
  {
   "cell_type": "markdown",
   "metadata": {},
   "source": [
    "#### Exercise 2 - Importing Modules"
   ]
  },
  {
   "cell_type": "markdown",
   "metadata": {},
   "source": [
    "In VS Code, create a module titled `geometry` and add two functions in there. One that will calculate the area of a circle given a radius. The second will find the hypotenuse of a right angle given the two sides. Import the module or the functions from the module and use it to find the answers to the below questions"
   ]
  },
  {
   "cell_type": "code",
   "execution_count": 5,
   "metadata": {},
   "outputs": [],
   "source": [
    "from geometry import area_of_circle, hypotenuse"
   ]
  },
  {
   "cell_type": "markdown",
   "metadata": {},
   "source": [
    "What is the area of a circle with a radius of 7cm?"
   ]
  },
  {
   "cell_type": "code",
   "execution_count": 6,
   "metadata": {},
   "outputs": [
    {
     "name": "stdout",
     "output_type": "stream",
     "text": [
      "153.93791\n"
     ]
    }
   ],
   "source": [
    "radius = 7\n",
    "area = area_of_circle(radius)\n",
    "print(area)"
   ]
  },
  {
   "cell_type": "markdown",
   "metadata": {},
   "source": [
    "What is the hypotenuse of a right angle with sides of 3in and 4in?"
   ]
  },
  {
   "cell_type": "code",
   "execution_count": 7,
   "metadata": {},
   "outputs": [
    {
     "name": "stdout",
     "output_type": "stream",
     "text": [
      "5.0\n"
     ]
    }
   ],
   "source": [
    "s1 = 3\n",
    "s2 = 4\n",
    "hypotenuse = hypotenuse(s1,s2)\n",
    "print(hypotenuse)"
   ]
  },
  {
   "cell_type": "code",
   "execution_count": null,
   "metadata": {},
   "outputs": [],
   "source": []
  }
 ],
 "metadata": {
  "kernelspec": {
   "display_name": "Python 3 (ipykernel)",
   "language": "python",
   "name": "python3"
  },
  "language_info": {
   "codemirror_mode": {
    "name": "ipython",
    "version": 3
   },
   "file_extension": ".py",
   "mimetype": "text/x-python",
   "name": "python",
   "nbconvert_exporter": "python",
   "pygments_lexer": "ipython3",
   "version": "3.10.9"
  }
 },
 "nbformat": 4,
 "nbformat_minor": 4
}
